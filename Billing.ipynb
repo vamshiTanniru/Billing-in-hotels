{
 "cells": [
  {
   "cell_type": "code",
   "execution_count": 4,
   "id": "6d37da61",
   "metadata": {
    "ExecuteTime": {
     "end_time": "2023-03-05T04:22:39.714156Z",
     "start_time": "2023-03-05T04:22:16.678910Z"
    }
   },
   "outputs": [
    {
     "name": "stdout",
     "output_type": "stream",
     "text": [
      "***Welcome to The Food-World***\n",
      "\n",
      "\n",
      "Here is your menu\n",
      "\n",
      "\n",
      "pizza ---------- ₹250\n",
      "bugger ---------- ₹150\n",
      "dosa ---------- ₹100\n",
      "veg-briyani ---------- ₹120\n",
      "mutton-briyani ---------- ₹170\n",
      "chicken-briyani ---------- ₹140\n",
      "\n",
      "Select the order  :\n",
      "PIZZA\n",
      "How many pizza's you want:2\n",
      "\n",
      "Select the order  :\n",
      "DOSA\n",
      "How many dosa's you want:3\n",
      "\n",
      "Select the order  :\n",
      "STOP\n",
      "your bill ---------- ₹800\n"
     ]
    }
   ],
   "source": [
    "menu = {\"pizza\":250,\"bugger\":150,\"dosa\":100,\"veg-briyani\":120,\"mutton-briyani\":170,\"chicken-briyani\":140}\n",
    "print(\"***Welcome to The Food-World***\")\n",
    "print(\"\\n\\nHere is your menu\\n\\n\")\n",
    "bill = 0\n",
    "\n",
    "for i in menu:\n",
    "    print(i,'--'*5,'₹'+str(menu[i]))\n",
    "    \n",
    "while True:\n",
    "    order = input(\"\\nSelect the order  :\\n\")\n",
    "    order = order.lower()\n",
    "    if order == \"stop\":\n",
    "        print(\"your bill\",'--'*5,'₹'+str(bill))\n",
    "        break\n",
    "        \n",
    "    elif order in menu:\n",
    "        quantity = int(input(f\"How many {order}'s you want:\"))\n",
    "        bill = bill+menu[order]*quantity\n",
    "        \n",
    "    else:\n",
    "        print(\"sorry we dont't serve that\")"
   ]
  },
  {
   "cell_type": "code",
   "execution_count": null,
   "id": "bf359725",
   "metadata": {
    "ExecuteTime": {
     "end_time": "2023-03-05T04:41:37.264929Z",
     "start_time": "2023-03-05T04:41:37.250803Z"
    }
   },
   "outputs": [],
   "source": []
  },
  {
   "cell_type": "code",
   "execution_count": null,
   "id": "dfb4f0c1",
   "metadata": {},
   "outputs": [],
   "source": []
  }
 ],
 "metadata": {
  "kernelspec": {
   "display_name": "Python 3 (ipykernel)",
   "language": "python",
   "name": "python3"
  },
  "language_info": {
   "codemirror_mode": {
    "name": "ipython",
    "version": 3
   },
   "file_extension": ".py",
   "mimetype": "text/x-python",
   "name": "python",
   "nbconvert_exporter": "python",
   "pygments_lexer": "ipython3",
   "version": "3.9.12"
  }
 },
 "nbformat": 4,
 "nbformat_minor": 5
}
